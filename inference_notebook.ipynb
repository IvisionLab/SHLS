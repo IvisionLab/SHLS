{
 "cells": [
  {
   "cell_type": "code",
   "execution_count": 18,
   "id": "86044a8c",
   "metadata": {},
   "outputs": [
    {
     "name": "stdout",
     "output_type": "stream",
     "text": [
      "CUDA version 10.1 [1 device(s) available].\n",
      "Model sent to cuda.\n",
      "Loaded checkpoing at: /media/marcelo/SSD/Py_all/lixo-rsync/logs_pinha/exp_00/my_net_pinha_2_last.pth\n"
     ]
    },
    {
     "data": {
      "application/vnd.jupyter.widget-view+json": {
       "model_id": "aabe5fb4d3df465b8eb3b9e83d087efd",
       "version_major": 2,
       "version_minor": 0
      },
      "text/plain": [
       "Button(description='Next sample', style=ButtonStyle())"
      ]
     },
     "metadata": {},
     "output_type": "display_data"
    },
    {
     "data": {
      "application/vnd.jupyter.widget-view+json": {
       "model_id": "24ef78af4aef4d46bd4626273a44e105",
       "version_major": 2,
       "version_minor": 0
      },
      "text/plain": [
       "Output()"
      ]
     },
     "metadata": {},
     "output_type": "display_data"
    }
   ],
   "source": [
    "%matplotlib notebook\n",
    "import torch\n",
    "import numpy as np\n",
    "from sklearn.neighbors import KNeighborsClassifier\n",
    "from sklearn.model_selection import train_test_split\n",
    "from config import *\n",
    "import Data.get_data as _Data\n",
    "import matplotlib.pyplot as plt\n",
    "from ipywidgets import widgets\n",
    "from IPython.display import display\n",
    "import warnings\n",
    "from utils import get_spx_pools, launch_cuda, load_checkpoint, ungroup_batches\n",
    "import Models.get_model as _Models\n",
    "warnings.filterwarnings(\"ignore\")\n",
    "\n",
    "config = set_config(jup_notebook=True)\n",
    "# path to the model weights\n",
    "config.resume_model_path = '/media/marcelo/SSD/Py_all/lixo-rsync/logs_pinha/exp_00/my_net_pinha_2_last.pth'\n",
    "# path to the folder containing the dataset \n",
    "config.data_root = '../databases'\n",
    "# batch_size=1 to show a single sample at a time\n",
    "config.train_batch_size = 1\n",
    "config.test_batch_size = 1\n",
    "\n",
    "model, loss_fun = _Models.get_model_loss(config)\n",
    "model = launch_cuda(model)\n",
    "model = load_checkpoint(config, model)\n",
    "\n",
    "train_loader, test_loader = _Data.get_data(config)\n",
    "# comment the dataset slipt not used \n",
    "#_iter = iter(train_loader)\n",
    "_iter = iter(test_loader)\n",
    "knn = KNeighborsClassifier(n_neighbors = config.knn_neighbors)\n",
    "\n",
    "def show_sample(b):\n",
    "    with output:\n",
    "        \n",
    "        model.eval()    \n",
    "        with torch.no_grad():\n",
    "\n",
    "            img, spx, obj_label, num_obj, info = next(_iter)\n",
    "            disp_img = img.clone()\n",
    "\n",
    "            img = img.float().cuda()\n",
    "            spx = spx.cuda()\n",
    "            obj_label = obj_label.cuda()\n",
    "\n",
    "            spx_pools, _ = get_spx_pools(spx, obj_label)\n",
    "            super_feat = model(img, spx.float())\n",
    "            spx_pools, super_feat = ungroup_batches(spx_pools, super_feat)\n",
    "            \n",
    "            for b in range(len(super_feat)):\n",
    "            \n",
    "                x = super_feat[b].clone().detach().cpu().numpy()\n",
    "                y = spx_pools[b].clone().detach().cpu().numpy()\n",
    "                idx = np.arange(1, y.shape[0]+1)\n",
    "                \n",
    "                try:                \n",
    "                    x_train, x_test, y_train, y_test, idx_train, idx_test = \\\n",
    "                        train_test_split(x, y, idx, test_size=config.knn_test_size, stratify=y)                    \n",
    "                    knn.fit(x_train,y_train)\n",
    "                    pred = knn.predict(x_test)                    \n",
    "                    out_str = 'Img: {}, knn_score: {:^7.3f}'.format(info['name'][b], knn.score(x_test, y_test))\n",
    "                except:\n",
    "                    out_str = 'Sample skipped'\n",
    "                    continue\n",
    "                    \n",
    "                aux_spx = spx[b][0] \n",
    "                aux_spx = aux_spx.cpu()\n",
    "                test_spx = torch.zeros_like(aux_spx) +1\n",
    "\n",
    "                for n, i in enumerate(idx_test):    \n",
    "                    test_spx[aux_spx==i] = pred[n]\n",
    "                    \n",
    "                total_spx = test_spx.clone()\n",
    "                \n",
    "                train_spx = torch.zeros_like(aux_spx) +1\n",
    "                for n, i in enumerate(idx_train):    \n",
    "                    train_spx[aux_spx==i] = y_train[n]\n",
    "                    total_spx[aux_spx==i] = y_train[n]\n",
    "                \n",
    "                plt.rcParams['figure.dpi'] = 200\n",
    "                plt.figure(num=1, figsize=(4, 4))\n",
    "                \n",
    "                plt.subplot(3,2,1)\n",
    "                plt.axis('off')\n",
    "                plt.title('Image', fontsize=6)\n",
    "                plt.imshow(disp_img[b].permute(1,2,0).cpu(), cmap='brg')                \n",
    "                plt.subplot(3,2,3)\n",
    "                plt.axis('off')\n",
    "                plt.title('obj_labels #{}'.format(obj_label[b,0].max()), fontsize=6)\n",
    "                plt.imshow(obj_label[b,0].cpu(), cmap='jet')\n",
    "                plt.subplot(3,2,4)\n",
    "                plt.axis('off')\n",
    "                plt.title('spx train #{}'.format(train_spx.max().int()), fontsize=6)\n",
    "                plt.imshow(train_spx, cmap='jet')\n",
    "                plt.subplot(3,2,5)\n",
    "                plt.axis('off')\n",
    "                plt.title('spx test #{}'.format(test_spx.max().int()), fontsize=6)\n",
    "                plt.imshow(test_spx, cmap='jet')\n",
    "                plt.subplot(3,2,6)\n",
    "                plt.axis('off')\n",
    "                plt.title('spx total #{}'.format(total_spx.max().int()), fontsize=6)\n",
    "                plt.imshow(total_spx, cmap='jet')\n",
    "                plt.suptitle(out_str, fontsize=6)\n",
    "                print()\n",
    "\n",
    "button = widgets.Button(description=\"Next sample\")\n",
    "output = widgets.Output()\n",
    "display(button, output)\n",
    "button.on_click(show_sample)\n"
   ]
  }
 ],
 "metadata": {
  "kernelspec": {
   "display_name": "Python 3",
   "language": "python",
   "name": "python3"
  },
  "language_info": {
   "codemirror_mode": {
    "name": "ipython",
    "version": 3
   },
   "file_extension": ".py",
   "mimetype": "text/x-python",
   "name": "python",
   "nbconvert_exporter": "python",
   "pygments_lexer": "ipython3",
   "version": "3.6.10"
  }
 },
 "nbformat": 4,
 "nbformat_minor": 5
}
